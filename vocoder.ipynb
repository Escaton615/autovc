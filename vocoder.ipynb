{
 "cells": [
  {
   "cell_type": "code",
   "execution_count": 2,
   "metadata": {},
   "outputs": [
    {
     "name": "stdout",
     "output_type": "stream",
     "text": [
      "p225xp225\n"
     ]
    },
    {
     "name": "stderr",
     "output_type": "stream",
     "text": [
      "100%|██████████| 23040/23040 [02:47<00:00, 137.57it/s]\n",
      "  0%|          | 15/23040 [00:00<02:40, 143.51it/s]"
     ]
    },
    {
     "name": "stdout",
     "output_type": "stream",
     "text": [
      "p225xp228\n"
     ]
    },
    {
     "name": "stderr",
     "output_type": "stream",
     "text": [
      "100%|██████████| 23040/23040 [02:49<00:00, 135.63it/s]\n",
      "  0%|          | 16/23040 [00:00<02:31, 151.67it/s]"
     ]
    },
    {
     "name": "stdout",
     "output_type": "stream",
     "text": [
      "p225xp256\n"
     ]
    },
    {
     "name": "stderr",
     "output_type": "stream",
     "text": [
      "100%|██████████| 23040/23040 [02:48<00:00, 136.81it/s]\n",
      "  0%|          | 11/23040 [00:00<03:30, 109.55it/s]"
     ]
    },
    {
     "name": "stdout",
     "output_type": "stream",
     "text": [
      "p225xp270\n"
     ]
    },
    {
     "name": "stderr",
     "output_type": "stream",
     "text": [
      "100%|██████████| 23040/23040 [02:45<00:00, 139.54it/s]\n",
      "  0%|          | 13/22784 [00:00<02:59, 127.17it/s]"
     ]
    },
    {
     "name": "stdout",
     "output_type": "stream",
     "text": [
      "p228xp225\n"
     ]
    },
    {
     "name": "stderr",
     "output_type": "stream",
     "text": [
      "100%|██████████| 22784/22784 [02:43<00:00, 139.32it/s]\n",
      "  0%|          | 15/22784 [00:00<02:36, 145.40it/s]"
     ]
    },
    {
     "name": "stdout",
     "output_type": "stream",
     "text": [
      "p228xp228\n"
     ]
    },
    {
     "name": "stderr",
     "output_type": "stream",
     "text": [
      "100%|██████████| 22784/22784 [02:45<00:00, 138.01it/s]\n",
      "  0%|          | 15/22784 [00:00<02:33, 148.19it/s]"
     ]
    },
    {
     "name": "stdout",
     "output_type": "stream",
     "text": [
      "p228xp256\n"
     ]
    },
    {
     "name": "stderr",
     "output_type": "stream",
     "text": [
      "100%|██████████| 22784/22784 [02:50<00:00, 133.73it/s]\n",
      "  0%|          | 15/22784 [00:00<02:35, 146.74it/s]"
     ]
    },
    {
     "name": "stdout",
     "output_type": "stream",
     "text": [
      "p228xp270\n"
     ]
    },
    {
     "name": "stderr",
     "output_type": "stream",
     "text": [
      "100%|██████████| 22784/22784 [03:03<00:00, 123.86it/s]\n",
      "  0%|          | 12/19200 [00:00<02:43, 117.64it/s]"
     ]
    },
    {
     "name": "stdout",
     "output_type": "stream",
     "text": [
      "p256xp225\n"
     ]
    },
    {
     "name": "stderr",
     "output_type": "stream",
     "text": [
      "100%|██████████| 19200/19200 [02:34<00:00, 124.19it/s]\n",
      "  0%|          | 13/19200 [00:00<02:36, 122.94it/s]"
     ]
    },
    {
     "name": "stdout",
     "output_type": "stream",
     "text": [
      "p256xp228\n"
     ]
    },
    {
     "name": "stderr",
     "output_type": "stream",
     "text": [
      "100%|██████████| 19200/19200 [02:31<00:00, 126.69it/s]\n",
      "  0%|          | 13/19200 [00:00<02:45, 116.25it/s]"
     ]
    },
    {
     "name": "stdout",
     "output_type": "stream",
     "text": [
      "p256xp256\n"
     ]
    },
    {
     "name": "stderr",
     "output_type": "stream",
     "text": [
      "100%|██████████| 19200/19200 [02:32<00:00, 125.54it/s]\n",
      "  0%|          | 13/19200 [00:00<02:31, 126.30it/s]"
     ]
    },
    {
     "name": "stdout",
     "output_type": "stream",
     "text": [
      "p256xp270\n"
     ]
    },
    {
     "name": "stderr",
     "output_type": "stream",
     "text": [
      "100%|██████████| 19200/19200 [02:34<00:00, 124.38it/s]\n",
      "  0%|          | 13/27904 [00:00<03:40, 126.25it/s]"
     ]
    },
    {
     "name": "stdout",
     "output_type": "stream",
     "text": [
      "p270xp225\n"
     ]
    },
    {
     "name": "stderr",
     "output_type": "stream",
     "text": [
      "100%|██████████| 27904/27904 [03:45<00:00, 123.90it/s]\n",
      "  0%|          | 11/27904 [00:00<04:27, 104.19it/s]"
     ]
    },
    {
     "name": "stdout",
     "output_type": "stream",
     "text": [
      "p270xp228\n"
     ]
    },
    {
     "name": "stderr",
     "output_type": "stream",
     "text": [
      "100%|██████████| 27904/27904 [03:43<00:00, 125.10it/s]\n",
      "  0%|          | 15/27904 [00:00<03:19, 139.55it/s]"
     ]
    },
    {
     "name": "stdout",
     "output_type": "stream",
     "text": [
      "p270xp256\n"
     ]
    },
    {
     "name": "stderr",
     "output_type": "stream",
     "text": [
      "100%|██████████| 27904/27904 [03:45<00:00, 123.63it/s]\n",
      "  0%|          | 13/27904 [00:00<03:41, 125.73it/s]"
     ]
    },
    {
     "name": "stdout",
     "output_type": "stream",
     "text": [
      "p270xp270\n"
     ]
    },
    {
     "name": "stderr",
     "output_type": "stream",
     "text": [
      "100%|██████████| 27904/27904 [03:43<00:00, 124.89it/s]\n"
     ]
    }
   ],
   "source": [
    "import torch\n",
    "import librosa\n",
    "import pickle\n",
    "from synthesis import build_model\n",
    "from synthesis import wavegen\n",
    "\n",
    "spect_vc = pickle.load(open('results.pkl', 'rb'))\n",
    "device = torch.device(\"cuda\")\n",
    "model = build_model().to(device)\n",
    "checkpoint = torch.load(\"checkpoints/checkpoint_step001000000_ema.pth\")\n",
    "model.load_state_dict(checkpoint[\"state_dict\"])\n",
    "\n",
    "for spect in spect_vc:\n",
    "    name = spect[0]\n",
    "    c = spect[1]\n",
    "    print(name)\n",
    "    waveform = wavegen(model, c=c)   \n",
    "    librosa.output.write_wav(name+'.wav', waveform, sr=16000)"
   ]
  },
  {
   "cell_type": "code",
   "execution_count": null,
   "metadata": {},
   "outputs": [],
   "source": []
  }
 ],
 "metadata": {
  "kernelspec": {
   "display_name": "Python 3",
   "language": "python",
   "name": "python3"
  },
  "language_info": {
   "codemirror_mode": {
    "name": "ipython",
    "version": 3
   },
   "file_extension": ".py",
   "mimetype": "text/x-python",
   "name": "python",
   "nbconvert_exporter": "python",
   "pygments_lexer": "ipython3",
   "version": "3.7.10"
  }
 },
 "nbformat": 4,
 "nbformat_minor": 4
}
